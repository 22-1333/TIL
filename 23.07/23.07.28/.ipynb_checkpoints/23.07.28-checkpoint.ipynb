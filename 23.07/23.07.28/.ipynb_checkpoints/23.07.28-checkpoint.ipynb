{
 "cells": [
  {
   "cell_type": "markdown",
   "id": "50648d17-9ba1-445d-8ca1-24aaecce1dcc",
   "metadata": {},
   "source": [
    "### jupyter notebook\n",
    "\n",
    "- 데이터 사이언스 작업에 많이 활용되는 파이썬 개발 환경\n",
    "- 웹 브라우저에서 실행\n",
    "- 코드 실행, 텍스트 문서 작성, 시각화 등을 하나의 문서에 통합하여 작업 가능\n",
    "- 데이터 사이언스 작업에 많이 쓰이는 이유\n",
    "    - 셀 단위 코드 실행으로 결과를 바로 확인할 수 있음\n",
    "    - 문서를 작성할 수 있는 마크다운 기능 제공\n",
    "    - 개별적인 코드 블록을 실행할 수 있음"
   ]
  },
  {
   "cell_type": "markdown",
   "id": "bb901045-2813-495a-8182-de9084fd1509",
   "metadata": {},
   "source": [
    "### data science\n",
    "\n",
    "- 다양한 데이터로부터 새로운 지식과 정보를 추출하기 위해 과학적 방법론, 프로세스, 알고리즘, 시스템을 동원하는 융합 분야\n",
    "- 컴퓨터 과학, 통계학, 수학 등 다양한 학문의 원리와 기술을 활용\n",
    "- [data science venn diagram](http://drewconway.com/zia/2013/3/26/the-data-science-venn-diagram)\n",
    "\n",
    "### data science process\n",
    "\n",
    "1. 문제 정의 : 해결하고자 하는 문제 정의\n",
    "2. 데이터 수집 : 문제 해결에 필요한 데이터 수집\n",
    "3. 데이터 전처리(정제) : 실질적인 분석을 수행하기 위해 데이터를 가공하는 단계\n",
    "   - 수집한 데이터의 오류(결측치, 이상치) 제거, 데이터 형식 변환 등\n",
    "4. 데이터 분석 : 전처리가 완료된 데이터에서 필요한 정보를 추출하는 단계\n",
    "5. 결과 해석 및 공유 : 의사 결정에 활용하기 위해 결과를 해석하고 시각화 후 공유하는 단계"
   ]
  },
  {
   "cell_type": "markdown",
   "id": "e33f737e-e529-449e-a5cb-6b40a028a98f",
   "metadata": {},
   "source": [
    "# 프로세스 1. 문제 정의\n",
    "\n",
    "해결하고자 하는 문제"
   ]
  },
  {
   "cell_type": "markdown",
   "id": "2d2359bd-e161-45f7-a6ae-d2768243859b",
   "metadata": {},
   "source": [
    "# 프로세스 2. 데이터 수집\n",
    "\n",
    "### 데이터 수집 기술과 방법\n",
    "\n",
    "- web scrapping\n",
    "- web crawling\n",
    "- open API\n",
    "- 데이터 공유 플랫폼\n",
    "    - kaggle, Data.world, Dacon, 공공데이터포털 등"
   ]
  },
  {
   "cell_type": "markdown",
   "id": "106f2af8-990f-40a1-81b0-d67a9244f2eb",
   "metadata": {},
   "source": [
    "### csv\n",
    "- 몇 가지 필드를 쉼표로 구분한 텍스트 데이터 및 텍스트 파일\n",
    "- 일반적으로 표 형식의 데이터를 CSV 형태로 많이 사용\n",
    "- 저장, 전송 및 처리 속도가 빠르며, 처리 가능한 프로그램이 다양"
   ]
  },
  {
   "cell_type": "markdown",
   "id": "e4b1e453-0293-4643-8e6c-6b5b74dc6458",
   "metadata": {},
   "source": [
    "# 프로세스 3. 데이터 전처리(정제)\n",
    "- 데이터 분석을 진행하기 전 데이터를 정제하는 단계\n",
    "- 다음과 같은 과정 포함\n",
    "    - 불완전하거나 오류가 있는 데이터를 제거하여 데이터의 품질을 개선\n",
    "    - 중복 데이터 제거\n",
    "    - 분석하기 적절한 형식으로 데이터를 변환\n",
    "    - 결측값 처리\n",
    "- 데이터 전처리 및 분석에 사용되는 파이썬 패키지\n",
    "    - Numbpy, Pandas, Matplotlib "
   ]
  },
  {
   "cell_type": "markdown",
   "id": "b3d86565-ef08-42df-8d29-42ca8c3e375e",
   "metadata": {},
   "source": [
    "### Numpy\n",
    "- 다차원 배열을 쉽게 처리하고 효율적으로 사용할 수 있도록 지원하는 파이썬 패키지\n",
    "- 장점\n",
    "    - Numpy 행렬 연산은 데이터가 많을수록 파이썬 반복문에 비해 훨씬 빠르다.\n",
    "    - 다차원 행렬 자료 구조를 제공하여 개발하기 편하다.\n",
    "- 특징\n",
    "    - CPyhon에서만 사용 가능\n",
    "    - 행렬 인덱싱 기능 제공"
   ]
  },
  {
   "cell_type": "markdown",
   "id": "fc950519-7c79-46e1-aeca-83d352f5ac6c",
   "metadata": {},
   "source": [
    "### Pandas\n",
    "- Numpy의 한계\n",
    "    - 유연성(데이터에 레이블을 붙이거나, 누락된 데이터로 작업)이 부족\n",
    "    - 그룹화, 피벗 등 구조화가 부족\n",
    "- Pandas는 마치 프로그래밍 버전의 엑셀을 다루듯 고성능의 데이터 구조를 만들 수 있음\n",
    "- Numpy 기반으로 만들어진 패키지로, Series와 DataFrame이라는 효율적인 자료구조 제공\n",
    "\n",
    "### 엑셀이 아닌 Pandas를 이용하는 이유\n",
    "- 보안성\n",
    "- 방대한 양의 데이터 처리에 대한 속도\n",
    "- 인공지능 활용 -> 머신러닝, 딥러닝\n",
    "- 엑셀은 DB X"
   ]
  },
  {
   "cell_type": "markdown",
   "id": "3c62771f-af6a-45e8-bd40-d639fd786bb3",
   "metadata": {},
   "source": [
    "### Matplotlib"
   ]
  }
 ],
 "metadata": {
  "kernelspec": {
   "display_name": "Python 3 (ipykernel)",
   "language": "python",
   "name": "python3"
  },
  "language_info": {
   "codemirror_mode": {
    "name": "ipython",
    "version": 3
   },
   "file_extension": ".py",
   "mimetype": "text/x-python",
   "name": "python",
   "nbconvert_exporter": "python",
   "pygments_lexer": "ipython3",
   "version": "3.9.13"
  }
 },
 "nbformat": 4,
 "nbformat_minor": 5
}
