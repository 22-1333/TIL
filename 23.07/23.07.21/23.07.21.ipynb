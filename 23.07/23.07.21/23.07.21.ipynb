{
 "cells": [
  {
   "cell_type": "markdown",
   "id": "7ef06cbc-2311-4a4f-a562-9222a6e66a62",
   "metadata": {},
   "source": [
    "y : change the cell type to _Code_  \n",
    "m : change the cell type to _Markdown_  \n",
    "a : insert cell above  \n",
    "b : insert cell below  \n",
    "dd : delete selected cells  \n",
    "shift + enter : run the recent cell, select below  \n",
    "ctrl + enter : run selected cells  "
   ]
  },
  {
   "cell_type": "code",
   "execution_count": 3,
   "id": "f038bb2e-c037-46e6-ba48-681eefafa959",
   "metadata": {},
   "outputs": [],
   "source": [
    "API_KEY = \"\""
   ]
  },
  {
   "cell_type": "code",
   "execution_count": 10,
   "id": "11df7a2e-42b8-451d-a00b-f56343ecf2e9",
   "metadata": {},
   "outputs": [],
   "source": [
    "# seoul lat & lon\n",
    "lat = 37.56\n",
    "lon = 126.97\n",
    "url = f\"https://api.openweathermap.org/data/2.5/weather?lat={lat}&lon={lon}&appid={API_KEY}\""
   ]
  },
  {
   "cell_type": "code",
   "execution_count": 12,
   "id": "7ba51924-7924-4ffe-b3cd-d1d8d52d82ad",
   "metadata": {},
   "outputs": [],
   "source": [
    "# seoul\n",
    "city_name = \"Seoul, KR\"\n",
    "url = f\"https://api.openweathermap.org/data/2.5/weather?q={city_name}&appid={API_KEY}\""
   ]
  },
  {
   "cell_type": "code",
   "execution_count": 13,
   "id": "6263300a-9424-4927-b0c0-52da47e626d0",
   "metadata": {},
   "outputs": [
    {
     "data": {
      "text/plain": [
       "{'coord': {'lon': 126.9778, 'lat': 37.5683},\n",
       " 'weather': [{'id': 721,\n",
       "   'main': 'Haze',\n",
       "   'description': 'haze',\n",
       "   'icon': '50d'}],\n",
       " 'base': 'stations',\n",
       " 'main': {'temp': 303.36,\n",
       "  'feels_like': 307.72,\n",
       "  'temp_min': 302.81,\n",
       "  'temp_max': 303.91,\n",
       "  'pressure': 1012,\n",
       "  'humidity': 66},\n",
       " 'visibility': 6000,\n",
       " 'wind': {'speed': 1.54, 'deg': 170},\n",
       " 'clouds': {'all': 20},\n",
       " 'dt': 1689903645,\n",
       " 'sys': {'type': 1,\n",
       "  'id': 8105,\n",
       "  'country': 'KR',\n",
       "  'sunrise': 1689884782,\n",
       "  'sunset': 1689936610},\n",
       " 'timezone': 32400,\n",
       " 'id': 1835848,\n",
       " 'name': 'Seoul',\n",
       " 'cod': 200}"
      ]
     },
     "execution_count": 13,
     "metadata": {},
     "output_type": "execute_result"
    }
   ],
   "source": [
    "import requests\n",
    "\n",
    "# API requests\n",
    "response = requests.get(url).json()\n",
    "response"
   ]
  },
  {
   "cell_type": "code",
   "execution_count": 16,
   "id": "f8efbdd8-fb1b-4a11-9b36-31e3dac76634",
   "metadata": {},
   "outputs": [
    {
     "name": "stdout",
     "output_type": "stream",
     "text": [
      "30.210000000000036\n"
     ]
    }
   ],
   "source": [
    "# temperature data\n",
    "## Kelvin\n",
    "temp = response[\"main\"][\"temp\"]\n",
    "\n",
    "## Celsius\n",
    "temp -= 273.15\n",
    "\n",
    "print(temp)"
   ]
  },
  {
   "cell_type": "code",
   "execution_count": 17,
   "id": "82c9038f-186e-41da-a048-e43b2e87b756",
   "metadata": {},
   "outputs": [
    {
     "name": "stdout",
     "output_type": "stream",
     "text": [
      "{'temp': 303.36, 'feels_like': 307.72, 'temp_min': 302.81, 'temp_max': 303.91, 'pressure': 1012, 'humidity': 66}\n"
     ]
    }
   ],
   "source": [
    "# \"main\" key\n",
    "main = response[\"main\"]\n",
    "\n",
    "print(main)"
   ]
  }
 ],
 "metadata": {
  "kernelspec": {
   "display_name": "Python 3 (ipykernel)",
   "language": "python",
   "name": "python3"
  },
  "language_info": {
   "codemirror_mode": {
    "name": "ipython",
    "version": 3
   },
   "file_extension": ".py",
   "mimetype": "text/x-python",
   "name": "python",
   "nbconvert_exporter": "python",
   "pygments_lexer": "ipython3",
   "version": "3.9.13"
  }
 },
 "nbformat": 4,
 "nbformat_minor": 5
}
